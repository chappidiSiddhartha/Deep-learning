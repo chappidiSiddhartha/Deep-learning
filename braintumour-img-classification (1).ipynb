{
 "cells": [
  {
   "cell_type": "markdown",
   "metadata": {},
   "source": [
    "About the data: The dataset contains 2 folders: yes and no which contains 253 Brain MRI Images. The folder yes contains 155 Brain MRI Images that are tumorous andno contains 98 Brain MRI Images that are non-tumorous."
   ]
  },
  {
   "cell_type": "code",
   "execution_count": 72,
   "metadata": {},
   "outputs": [],
   "source": [
    "# Importing Libraries"
   ]
  },
  {
   "cell_type": "code",
   "execution_count": 25,
   "metadata": {
    "execution": {
     "iopub.execute_input": "2022-01-20T09:29:52.574014Z",
     "iopub.status.busy": "2022-01-20T09:29:52.573056Z",
     "iopub.status.idle": "2022-01-20T09:29:59.111662Z",
     "shell.execute_reply": "2022-01-20T09:29:59.110936Z",
     "shell.execute_reply.started": "2022-01-20T09:26:44.605157Z"
    },
    "papermill": {
     "duration": 6.573319,
     "end_time": "2022-01-20T09:29:59.111816",
     "exception": false,
     "start_time": "2022-01-20T09:29:52.538497",
     "status": "completed"
    },
    "tags": []
   },
   "outputs": [],
   "source": [
    "import os\n",
    "import glob\n",
    "import io\n",
    "import pandas as pd \n",
    "import numpy as np\n",
    "import matplotlib.pyplot as plt \n",
    "%matplotlib inline\n",
    "import tensorflow as tf\n",
    "from tensorflow import keras\n",
    "from keras import Sequential,models,layers\n",
    "from tensorflow.keras.preprocessing import image\n",
    "from numpy import asarray\n",
    "import cv2\n",
    "import PIL\n",
    "from PIL import Image\n"
   ]
  },
  {
   "cell_type": "markdown",
   "metadata": {
    "papermill": {
     "duration": 0.018732,
     "end_time": "2022-01-20T09:29:59.151938",
     "exception": false,
     "start_time": "2022-01-20T09:29:59.133206",
     "status": "completed"
    },
    "tags": []
   },
   "source": [
    "# Image Preprocessing \n",
    "# converting specifying imagepath and converting image int array"
   ]
  },
  {
   "cell_type": "code",
   "execution_count": 26,
   "metadata": {
    "execution": {
     "iopub.execute_input": "2022-01-20T09:29:59.196247Z",
     "iopub.status.busy": "2022-01-20T09:29:59.195535Z",
     "iopub.status.idle": "2022-01-20T09:29:59.428855Z",
     "shell.execute_reply": "2022-01-20T09:29:59.428291Z",
     "shell.execute_reply.started": "2022-01-20T09:26:47.633767Z"
    },
    "papermill": {
     "duration": 0.257316,
     "end_time": "2022-01-20T09:29:59.429033",
     "exception": false,
     "start_time": "2022-01-20T09:29:59.171717",
     "status": "completed"
    },
    "tags": []
   },
   "outputs": [],
   "source": [
    "#img_dir=r'C:\\Users\\chapp\\Downloads\\'\n",
    "no_images=os.listdir(r'C:\\Users\\chapp\\Downloads\\braintumour\\no')\n",
    "yes_images=os.listdir(r'C:\\Users\\chapp\\Downloads\\braintumour\\yes')"
   ]
  },
  {
   "cell_type": "code",
   "execution_count": 34,
   "metadata": {
    "execution": {
     "iopub.execute_input": "2022-01-20T09:29:59.470942Z",
     "iopub.status.busy": "2022-01-20T09:29:59.469967Z",
     "iopub.status.idle": "2022-01-20T09:29:59.473541Z",
     "shell.execute_reply": "2022-01-20T09:29:59.474117Z",
     "shell.execute_reply.started": "2022-01-20T09:26:50.541016Z"
    },
    "papermill": {
     "duration": 0.026071,
     "end_time": "2022-01-20T09:29:59.474283",
     "exception": false,
     "start_time": "2022-01-20T09:29:59.448212",
     "status": "completed"
    },
    "tags": []
   },
   "outputs": [],
   "source": [
    "datset=[]\n",
    "lab=[]"
   ]
  },
  {
   "cell_type": "code",
   "execution_count": 35,
   "metadata": {
    "execution": {
     "iopub.execute_input": "2022-01-20T09:29:59.515798Z",
     "iopub.status.busy": "2022-01-20T09:29:59.514841Z",
     "iopub.status.idle": "2022-01-20T09:30:09.902552Z",
     "shell.execute_reply": "2022-01-20T09:30:09.903069Z",
     "shell.execute_reply.started": "2022-01-20T09:26:53.262022Z"
    },
    "papermill": {
     "duration": 10.410051,
     "end_time": "2022-01-20T09:30:09.903259",
     "exception": false,
     "start_time": "2022-01-20T09:29:59.493208",
     "status": "completed"
    },
    "scrolled": true,
    "tags": []
   },
   "outputs": [
    {
     "name": "stdout",
     "output_type": "stream",
     "text": [
      "C:\\Users\\chapp\\Downloads\\braintumour\\no\\\\10 no.jpg\n",
      "C:\\Users\\chapp\\Downloads\\braintumour\\no\\\\11 no.jpg\n",
      "C:\\Users\\chapp\\Downloads\\braintumour\\no\\\\12 no.jpg\n",
      "C:\\Users\\chapp\\Downloads\\braintumour\\no\\\\13 no.jpg\n",
      "C:\\Users\\chapp\\Downloads\\braintumour\\no\\\\14 no.jpg\n",
      "C:\\Users\\chapp\\Downloads\\braintumour\\no\\\\15 no.jpg\n",
      "C:\\Users\\chapp\\Downloads\\braintumour\\no\\\\17 no.jpg\n",
      "C:\\Users\\chapp\\Downloads\\braintumour\\no\\\\18 no.jpg\n",
      "C:\\Users\\chapp\\Downloads\\braintumour\\no\\\\19 no.jpg\n",
      "C:\\Users\\chapp\\Downloads\\braintumour\\no\\\\20 no.jpg\n",
      "C:\\Users\\chapp\\Downloads\\braintumour\\no\\\\21 no.jpg\n",
      "C:\\Users\\chapp\\Downloads\\braintumour\\no\\\\22 no.jpg\n",
      "C:\\Users\\chapp\\Downloads\\braintumour\\no\\\\23 no.jpg\n",
      "C:\\Users\\chapp\\Downloads\\braintumour\\no\\\\24 no.jpg\n",
      "C:\\Users\\chapp\\Downloads\\braintumour\\no\\\\25 no.jpg\n",
      "C:\\Users\\chapp\\Downloads\\braintumour\\no\\\\26 no.jpg\n",
      "C:\\Users\\chapp\\Downloads\\braintumour\\no\\\\27 no.jpg\n",
      "C:\\Users\\chapp\\Downloads\\braintumour\\no\\\\28 no.jpg\n",
      "C:\\Users\\chapp\\Downloads\\braintumour\\no\\\\29 no.jpg\n",
      "C:\\Users\\chapp\\Downloads\\braintumour\\no\\\\3 no.jpg\n",
      "C:\\Users\\chapp\\Downloads\\braintumour\\no\\\\30 no.jpg\n",
      "C:\\Users\\chapp\\Downloads\\braintumour\\no\\\\31 no.jpg\n",
      "C:\\Users\\chapp\\Downloads\\braintumour\\no\\\\32 no.jpg\n",
      "C:\\Users\\chapp\\Downloads\\braintumour\\no\\\\33 no.jpg\n",
      "C:\\Users\\chapp\\Downloads\\braintumour\\no\\\\34 no.jpg\n",
      "C:\\Users\\chapp\\Downloads\\braintumour\\no\\\\35 no.jpg\n",
      "C:\\Users\\chapp\\Downloads\\braintumour\\no\\\\36 no.jpg\n",
      "C:\\Users\\chapp\\Downloads\\braintumour\\no\\\\37 no.jpg\n",
      "C:\\Users\\chapp\\Downloads\\braintumour\\no\\\\38 no.jpg\n",
      "C:\\Users\\chapp\\Downloads\\braintumour\\no\\\\39 no.jpg\n",
      "C:\\Users\\chapp\\Downloads\\braintumour\\no\\\\4 no.jpg\n",
      "C:\\Users\\chapp\\Downloads\\braintumour\\no\\\\40 no.jpg\n",
      "C:\\Users\\chapp\\Downloads\\braintumour\\no\\\\41 no.jpg\n",
      "C:\\Users\\chapp\\Downloads\\braintumour\\no\\\\42 no.jpg\n",
      "C:\\Users\\chapp\\Downloads\\braintumour\\no\\\\43 no.jpg\n",
      "C:\\Users\\chapp\\Downloads\\braintumour\\no\\\\44no.jpg\n",
      "C:\\Users\\chapp\\Downloads\\braintumour\\no\\\\45 no.jpg\n",
      "C:\\Users\\chapp\\Downloads\\braintumour\\no\\\\46 no.jpg\n",
      "C:\\Users\\chapp\\Downloads\\braintumour\\no\\\\47 no.jpg\n",
      "C:\\Users\\chapp\\Downloads\\braintumour\\no\\\\48 no.jpeg\n",
      "C:\\Users\\chapp\\Downloads\\braintumour\\no\\\\49 no.jpg\n",
      "C:\\Users\\chapp\\Downloads\\braintumour\\no\\\\5 no.jpg\n",
      "C:\\Users\\chapp\\Downloads\\braintumour\\no\\\\50 no.jpg\n",
      "C:\\Users\\chapp\\Downloads\\braintumour\\no\\\\6 no.jpg\n",
      "C:\\Users\\chapp\\Downloads\\braintumour\\no\\\\7 no.jpg\n",
      "C:\\Users\\chapp\\Downloads\\braintumour\\no\\\\8 no.jpg\n",
      "C:\\Users\\chapp\\Downloads\\braintumour\\no\\\\9 no.jpg\n",
      "C:\\Users\\chapp\\Downloads\\braintumour\\no\\\\desktop.ini\n",
      "C:\\Users\\chapp\\Downloads\\braintumour\\no\\\\N1.JPG\n",
      "C:\\Users\\chapp\\Downloads\\braintumour\\no\\\\N11.jpg\n",
      "C:\\Users\\chapp\\Downloads\\braintumour\\no\\\\N15.jpg\n",
      "C:\\Users\\chapp\\Downloads\\braintumour\\no\\\\N16.jpg\n",
      "C:\\Users\\chapp\\Downloads\\braintumour\\no\\\\N17.jpg\n",
      "C:\\Users\\chapp\\Downloads\\braintumour\\no\\\\N19.JPG\n",
      "C:\\Users\\chapp\\Downloads\\braintumour\\no\\\\N2.JPG\n",
      "C:\\Users\\chapp\\Downloads\\braintumour\\no\\\\N20.JPG\n",
      "C:\\Users\\chapp\\Downloads\\braintumour\\no\\\\N21.jpg\n",
      "C:\\Users\\chapp\\Downloads\\braintumour\\no\\\\N22.JPG\n",
      "C:\\Users\\chapp\\Downloads\\braintumour\\no\\\\N26.JPG\n",
      "C:\\Users\\chapp\\Downloads\\braintumour\\no\\\\N3.jpg\n",
      "C:\\Users\\chapp\\Downloads\\braintumour\\no\\\\N5.jpg\n",
      "C:\\Users\\chapp\\Downloads\\braintumour\\no\\\\N6.jpg\n",
      "C:\\Users\\chapp\\Downloads\\braintumour\\no\\\\no 1.jpg\n",
      "C:\\Users\\chapp\\Downloads\\braintumour\\no\\\\no 10.jpg\n",
      "C:\\Users\\chapp\\Downloads\\braintumour\\no\\\\no 2.jpg\n",
      "C:\\Users\\chapp\\Downloads\\braintumour\\no\\\\no 3.jpg\n",
      "C:\\Users\\chapp\\Downloads\\braintumour\\no\\\\no 4.jpg\n",
      "C:\\Users\\chapp\\Downloads\\braintumour\\no\\\\no 5.jpeg\n",
      "C:\\Users\\chapp\\Downloads\\braintumour\\no\\\\no 6.jpg\n",
      "C:\\Users\\chapp\\Downloads\\braintumour\\no\\\\no 7.jpeg\n",
      "C:\\Users\\chapp\\Downloads\\braintumour\\no\\\\no 8.jpg\n",
      "C:\\Users\\chapp\\Downloads\\braintumour\\no\\\\no 89.jpg\n",
      "C:\\Users\\chapp\\Downloads\\braintumour\\no\\\\no 9.png\n",
      "C:\\Users\\chapp\\Downloads\\braintumour\\no\\\\no 90.jpg\n",
      "C:\\Users\\chapp\\Downloads\\braintumour\\no\\\\no 91.jpeg\n",
      "C:\\Users\\chapp\\Downloads\\braintumour\\no\\\\no 92.jpg\n",
      "C:\\Users\\chapp\\Downloads\\braintumour\\no\\\\no 923.jpg\n",
      "C:\\Users\\chapp\\Downloads\\braintumour\\no\\\\no 95.jpg\n",
      "C:\\Users\\chapp\\Downloads\\braintumour\\no\\\\no 96.jpg\n",
      "C:\\Users\\chapp\\Downloads\\braintumour\\no\\\\no 99.jpg\n",
      "C:\\Users\\chapp\\Downloads\\braintumour\\no\\\\no.jpg\n",
      "C:\\Users\\chapp\\Downloads\\braintumour\\no\\\\No1.jpeg\n",
      "C:\\Users\\chapp\\Downloads\\braintumour\\no\\\\No100.jpg\n",
      "C:\\Users\\chapp\\Downloads\\braintumour\\no\\\\No11.jpg\n",
      "C:\\Users\\chapp\\Downloads\\braintumour\\no\\\\No12.jpg\n",
      "C:\\Users\\chapp\\Downloads\\braintumour\\no\\\\No13.jpg\n",
      "C:\\Users\\chapp\\Downloads\\braintumour\\no\\\\No14.jpg\n",
      "C:\\Users\\chapp\\Downloads\\braintumour\\no\\\\No15.jpg\n",
      "C:\\Users\\chapp\\Downloads\\braintumour\\no\\\\No16.jpg\n",
      "C:\\Users\\chapp\\Downloads\\braintumour\\no\\\\No17.jpg\n",
      "C:\\Users\\chapp\\Downloads\\braintumour\\no\\\\No18.jpg\n",
      "C:\\Users\\chapp\\Downloads\\braintumour\\no\\\\No19.jpg\n",
      "C:\\Users\\chapp\\Downloads\\braintumour\\no\\\\No2.jpeg\n",
      "C:\\Users\\chapp\\Downloads\\braintumour\\no\\\\No20.jpg\n",
      "C:\\Users\\chapp\\Downloads\\braintumour\\no\\\\No21.jpg\n",
      "C:\\Users\\chapp\\Downloads\\braintumour\\no\\\\No22.jpg\n",
      "C:\\Users\\chapp\\Downloads\\braintumour\\no\\\\No94.jpg\n",
      "C:\\Users\\chapp\\Downloads\\braintumour\\no\\\\No97.jpg\n",
      "C:\\Users\\chapp\\Downloads\\braintumour\\no\\\\No98.jpg\n"
     ]
    }
   ],
   "source": [
    "for image_name in (no_images):\n",
    "    s=r\"C:\\Users\\chapp\\Downloads\\braintumour\\no\\\\\"\n",
    "    path=(s +image_name)\n",
    "    print(path)   \n",
    "    if path==r'C:\\Users\\chapp\\Downloads\\braintumour\\no\\\\desktop.ini':\n",
    "        continue\n",
    "    image=cv2.imread(path)\n",
    "    image=Image.fromarray(image,'RGB')\n",
    "    image=image.resize((64,64))\n",
    "    datset.append(np.array(image))\n",
    "    lab.append(0)\n",
    "    #C:\\Users\\chapp\\Downloads\\braintumour\\no\\No1.jpeg"
   ]
  },
  {
   "cell_type": "code",
   "execution_count": 36,
   "metadata": {
    "execution": {
     "iopub.execute_input": "2022-01-20T09:30:09.947772Z",
     "iopub.status.busy": "2022-01-20T09:30:09.947118Z",
     "iopub.status.idle": "2022-01-20T09:30:22.083024Z",
     "shell.execute_reply": "2022-01-20T09:30:22.082441Z",
     "shell.execute_reply.started": "2022-01-20T09:26:59.982169Z"
    },
    "papermill": {
     "duration": 12.160333,
     "end_time": "2022-01-20T09:30:22.083191",
     "exception": false,
     "start_time": "2022-01-20T09:30:09.922858",
     "status": "completed"
    },
    "tags": []
   },
   "outputs": [
    {
     "name": "stdout",
     "output_type": "stream",
     "text": [
      "C:\\Users\\chapp\\Downloads\\braintumour\\yes\\\\Y1.jpg\n",
      "C:\\Users\\chapp\\Downloads\\braintumour\\yes\\\\Y10.jpg\n",
      "C:\\Users\\chapp\\Downloads\\braintumour\\yes\\\\Y100.JPG\n",
      "C:\\Users\\chapp\\Downloads\\braintumour\\yes\\\\Y101.jpg\n",
      "C:\\Users\\chapp\\Downloads\\braintumour\\yes\\\\Y102.jpg\n",
      "C:\\Users\\chapp\\Downloads\\braintumour\\yes\\\\Y103.jpg\n",
      "C:\\Users\\chapp\\Downloads\\braintumour\\yes\\\\Y104.jpg\n",
      "C:\\Users\\chapp\\Downloads\\braintumour\\yes\\\\Y105.jpg\n",
      "C:\\Users\\chapp\\Downloads\\braintumour\\yes\\\\Y106.jpg\n",
      "C:\\Users\\chapp\\Downloads\\braintumour\\yes\\\\Y107.jpg\n",
      "C:\\Users\\chapp\\Downloads\\braintumour\\yes\\\\Y108.jpg\n",
      "C:\\Users\\chapp\\Downloads\\braintumour\\yes\\\\Y109.JPG\n",
      "C:\\Users\\chapp\\Downloads\\braintumour\\yes\\\\Y11.jpg\n",
      "C:\\Users\\chapp\\Downloads\\braintumour\\yes\\\\Y111.JPG\n",
      "C:\\Users\\chapp\\Downloads\\braintumour\\yes\\\\Y112.JPG\n",
      "C:\\Users\\chapp\\Downloads\\braintumour\\yes\\\\Y113.JPG\n",
      "C:\\Users\\chapp\\Downloads\\braintumour\\yes\\\\Y114.JPG\n",
      "C:\\Users\\chapp\\Downloads\\braintumour\\yes\\\\Y115.JPG\n",
      "C:\\Users\\chapp\\Downloads\\braintumour\\yes\\\\Y116.JPG\n",
      "C:\\Users\\chapp\\Downloads\\braintumour\\yes\\\\Y117.JPG\n",
      "C:\\Users\\chapp\\Downloads\\braintumour\\yes\\\\Y12.jpg\n",
      "C:\\Users\\chapp\\Downloads\\braintumour\\yes\\\\Y120.JPG\n",
      "C:\\Users\\chapp\\Downloads\\braintumour\\yes\\\\Y13.jpg\n",
      "C:\\Users\\chapp\\Downloads\\braintumour\\yes\\\\Y14.jpg\n",
      "C:\\Users\\chapp\\Downloads\\braintumour\\yes\\\\Y146.JPG\n",
      "C:\\Users\\chapp\\Downloads\\braintumour\\yes\\\\Y147.JPG\n",
      "C:\\Users\\chapp\\Downloads\\braintumour\\yes\\\\Y148.JPG\n",
      "C:\\Users\\chapp\\Downloads\\braintumour\\yes\\\\Y15.jpg\n",
      "C:\\Users\\chapp\\Downloads\\braintumour\\yes\\\\Y153.jpg\n",
      "C:\\Users\\chapp\\Downloads\\braintumour\\yes\\\\Y154.jpg\n",
      "C:\\Users\\chapp\\Downloads\\braintumour\\yes\\\\Y155.JPG\n",
      "C:\\Users\\chapp\\Downloads\\braintumour\\yes\\\\Y156.JPG\n",
      "C:\\Users\\chapp\\Downloads\\braintumour\\yes\\\\Y157.JPG\n",
      "C:\\Users\\chapp\\Downloads\\braintumour\\yes\\\\Y158.JPG\n",
      "C:\\Users\\chapp\\Downloads\\braintumour\\yes\\\\Y159.JPG\n",
      "C:\\Users\\chapp\\Downloads\\braintumour\\yes\\\\Y16.JPG\n",
      "C:\\Users\\chapp\\Downloads\\braintumour\\yes\\\\Y160.JPG\n",
      "C:\\Users\\chapp\\Downloads\\braintumour\\yes\\\\Y161.JPG\n",
      "C:\\Users\\chapp\\Downloads\\braintumour\\yes\\\\Y162.jpg\n",
      "C:\\Users\\chapp\\Downloads\\braintumour\\yes\\\\Y163.JPG\n",
      "C:\\Users\\chapp\\Downloads\\braintumour\\yes\\\\Y164.JPG\n",
      "C:\\Users\\chapp\\Downloads\\braintumour\\yes\\\\Y165.JPG\n",
      "C:\\Users\\chapp\\Downloads\\braintumour\\yes\\\\Y166.JPG\n",
      "C:\\Users\\chapp\\Downloads\\braintumour\\yes\\\\Y167.JPG\n",
      "C:\\Users\\chapp\\Downloads\\braintumour\\yes\\\\Y168.jpg\n",
      "C:\\Users\\chapp\\Downloads\\braintumour\\yes\\\\Y169.jpg\n",
      "C:\\Users\\chapp\\Downloads\\braintumour\\yes\\\\Y17.jpg\n",
      "C:\\Users\\chapp\\Downloads\\braintumour\\yes\\\\Y170.JPG\n",
      "C:\\Users\\chapp\\Downloads\\braintumour\\yes\\\\Y18.JPG\n",
      "C:\\Users\\chapp\\Downloads\\braintumour\\yes\\\\Y180.jpg\n",
      "C:\\Users\\chapp\\Downloads\\braintumour\\yes\\\\Y181.jpg\n",
      "C:\\Users\\chapp\\Downloads\\braintumour\\yes\\\\Y182.JPG\n",
      "C:\\Users\\chapp\\Downloads\\braintumour\\yes\\\\Y183.jpg\n",
      "C:\\Users\\chapp\\Downloads\\braintumour\\yes\\\\Y184.JPG\n",
      "C:\\Users\\chapp\\Downloads\\braintumour\\yes\\\\Y185.jpg\n",
      "C:\\Users\\chapp\\Downloads\\braintumour\\yes\\\\Y186.jpg\n",
      "C:\\Users\\chapp\\Downloads\\braintumour\\yes\\\\Y187.jpg\n",
      "C:\\Users\\chapp\\Downloads\\braintumour\\yes\\\\Y188.jpg\n",
      "C:\\Users\\chapp\\Downloads\\braintumour\\yes\\\\Y19.JPG\n",
      "C:\\Users\\chapp\\Downloads\\braintumour\\yes\\\\Y192.JPG\n",
      "C:\\Users\\chapp\\Downloads\\braintumour\\yes\\\\Y193.JPG\n",
      "C:\\Users\\chapp\\Downloads\\braintumour\\yes\\\\Y194.jpg\n",
      "C:\\Users\\chapp\\Downloads\\braintumour\\yes\\\\Y195.JPG\n",
      "C:\\Users\\chapp\\Downloads\\braintumour\\yes\\\\Y2.jpg\n",
      "C:\\Users\\chapp\\Downloads\\braintumour\\yes\\\\Y20.jpg\n",
      "C:\\Users\\chapp\\Downloads\\braintumour\\yes\\\\Y21.jpg\n",
      "C:\\Users\\chapp\\Downloads\\braintumour\\yes\\\\Y22.jpg\n",
      "C:\\Users\\chapp\\Downloads\\braintumour\\yes\\\\Y23.JPG\n",
      "C:\\Users\\chapp\\Downloads\\braintumour\\yes\\\\Y24.jpg\n",
      "C:\\Users\\chapp\\Downloads\\braintumour\\yes\\\\Y242.JPG\n",
      "C:\\Users\\chapp\\Downloads\\braintumour\\yes\\\\Y243.JPG\n",
      "C:\\Users\\chapp\\Downloads\\braintumour\\yes\\\\Y244.JPG\n",
      "C:\\Users\\chapp\\Downloads\\braintumour\\yes\\\\Y245.jpg\n",
      "C:\\Users\\chapp\\Downloads\\braintumour\\yes\\\\Y246.JPG\n",
      "C:\\Users\\chapp\\Downloads\\braintumour\\yes\\\\Y247.JPG\n",
      "C:\\Users\\chapp\\Downloads\\braintumour\\yes\\\\Y248.JPG\n",
      "C:\\Users\\chapp\\Downloads\\braintumour\\yes\\\\Y249.JPG\n",
      "C:\\Users\\chapp\\Downloads\\braintumour\\yes\\\\Y25.jpg\n",
      "C:\\Users\\chapp\\Downloads\\braintumour\\yes\\\\Y250.jpg\n",
      "C:\\Users\\chapp\\Downloads\\braintumour\\yes\\\\Y251.JPG\n",
      "C:\\Users\\chapp\\Downloads\\braintumour\\yes\\\\Y252.jpg\n",
      "C:\\Users\\chapp\\Downloads\\braintumour\\yes\\\\Y253.JPG\n",
      "C:\\Users\\chapp\\Downloads\\braintumour\\yes\\\\Y254.jpg\n",
      "C:\\Users\\chapp\\Downloads\\braintumour\\yes\\\\Y255.JPG\n",
      "C:\\Users\\chapp\\Downloads\\braintumour\\yes\\\\Y256.JPG\n",
      "C:\\Users\\chapp\\Downloads\\braintumour\\yes\\\\Y257.jpg\n",
      "C:\\Users\\chapp\\Downloads\\braintumour\\yes\\\\Y258.JPG\n",
      "C:\\Users\\chapp\\Downloads\\braintumour\\yes\\\\Y259.JPG\n",
      "C:\\Users\\chapp\\Downloads\\braintumour\\yes\\\\Y26.jpg\n",
      "C:\\Users\\chapp\\Downloads\\braintumour\\yes\\\\Y27.jpg\n",
      "C:\\Users\\chapp\\Downloads\\braintumour\\yes\\\\Y28.jpg\n",
      "C:\\Users\\chapp\\Downloads\\braintumour\\yes\\\\Y29.jpg\n",
      "C:\\Users\\chapp\\Downloads\\braintumour\\yes\\\\Y3.jpg\n",
      "C:\\Users\\chapp\\Downloads\\braintumour\\yes\\\\Y30.jpg\n",
      "C:\\Users\\chapp\\Downloads\\braintumour\\yes\\\\Y31.jpg\n",
      "C:\\Users\\chapp\\Downloads\\braintumour\\yes\\\\Y32.jpg\n",
      "C:\\Users\\chapp\\Downloads\\braintumour\\yes\\\\Y33.jpg\n",
      "C:\\Users\\chapp\\Downloads\\braintumour\\yes\\\\Y34.jpg\n",
      "C:\\Users\\chapp\\Downloads\\braintumour\\yes\\\\Y35.jpg\n",
      "C:\\Users\\chapp\\Downloads\\braintumour\\yes\\\\Y36.JPG\n",
      "C:\\Users\\chapp\\Downloads\\braintumour\\yes\\\\Y37.jpg\n",
      "C:\\Users\\chapp\\Downloads\\braintumour\\yes\\\\Y38.jpg\n",
      "C:\\Users\\chapp\\Downloads\\braintumour\\yes\\\\Y39.jpg\n",
      "C:\\Users\\chapp\\Downloads\\braintumour\\yes\\\\Y4.jpg\n",
      "C:\\Users\\chapp\\Downloads\\braintumour\\yes\\\\Y40.JPG\n",
      "C:\\Users\\chapp\\Downloads\\braintumour\\yes\\\\Y41.jpg\n",
      "C:\\Users\\chapp\\Downloads\\braintumour\\yes\\\\Y42.jpg\n",
      "C:\\Users\\chapp\\Downloads\\braintumour\\yes\\\\Y44.JPG\n",
      "C:\\Users\\chapp\\Downloads\\braintumour\\yes\\\\Y45.JPG\n",
      "C:\\Users\\chapp\\Downloads\\braintumour\\yes\\\\Y46.jpg\n",
      "C:\\Users\\chapp\\Downloads\\braintumour\\yes\\\\Y47.JPG\n",
      "C:\\Users\\chapp\\Downloads\\braintumour\\yes\\\\Y49.JPG\n",
      "C:\\Users\\chapp\\Downloads\\braintumour\\yes\\\\Y50.JPG\n",
      "C:\\Users\\chapp\\Downloads\\braintumour\\yes\\\\Y51.jpg\n",
      "C:\\Users\\chapp\\Downloads\\braintumour\\yes\\\\Y52.jpg\n",
      "C:\\Users\\chapp\\Downloads\\braintumour\\yes\\\\Y53.jpg\n",
      "C:\\Users\\chapp\\Downloads\\braintumour\\yes\\\\Y54.jpg\n",
      "C:\\Users\\chapp\\Downloads\\braintumour\\yes\\\\Y55.jpg\n",
      "C:\\Users\\chapp\\Downloads\\braintumour\\yes\\\\Y56.jpg\n",
      "C:\\Users\\chapp\\Downloads\\braintumour\\yes\\\\Y58.JPG\n",
      "C:\\Users\\chapp\\Downloads\\braintumour\\yes\\\\Y59.JPG\n",
      "C:\\Users\\chapp\\Downloads\\braintumour\\yes\\\\Y6.jpg\n",
      "C:\\Users\\chapp\\Downloads\\braintumour\\yes\\\\Y60.jpg\n",
      "C:\\Users\\chapp\\Downloads\\braintumour\\yes\\\\Y61.jpg\n",
      "C:\\Users\\chapp\\Downloads\\braintumour\\yes\\\\Y62.jpg\n",
      "C:\\Users\\chapp\\Downloads\\braintumour\\yes\\\\Y65.JPG\n",
      "C:\\Users\\chapp\\Downloads\\braintumour\\yes\\\\Y66.JPG\n",
      "C:\\Users\\chapp\\Downloads\\braintumour\\yes\\\\Y67.JPG\n",
      "C:\\Users\\chapp\\Downloads\\braintumour\\yes\\\\Y69.jpg\n",
      "C:\\Users\\chapp\\Downloads\\braintumour\\yes\\\\Y7.jpg\n",
      "C:\\Users\\chapp\\Downloads\\braintumour\\yes\\\\Y70.jpg\n",
      "C:\\Users\\chapp\\Downloads\\braintumour\\yes\\\\Y71.JPG\n",
      "C:\\Users\\chapp\\Downloads\\braintumour\\yes\\\\Y73.jpg\n",
      "C:\\Users\\chapp\\Downloads\\braintumour\\yes\\\\Y74.jpg\n",
      "C:\\Users\\chapp\\Downloads\\braintumour\\yes\\\\Y75.JPG\n",
      "C:\\Users\\chapp\\Downloads\\braintumour\\yes\\\\Y76.jpg\n",
      "C:\\Users\\chapp\\Downloads\\braintumour\\yes\\\\Y77.jpg\n",
      "C:\\Users\\chapp\\Downloads\\braintumour\\yes\\\\Y78.jpg\n",
      "C:\\Users\\chapp\\Downloads\\braintumour\\yes\\\\Y79.jpg\n",
      "C:\\Users\\chapp\\Downloads\\braintumour\\yes\\\\Y8.jpg\n",
      "C:\\Users\\chapp\\Downloads\\braintumour\\yes\\\\Y81.jpg\n",
      "C:\\Users\\chapp\\Downloads\\braintumour\\yes\\\\Y82.jpg\n",
      "C:\\Users\\chapp\\Downloads\\braintumour\\yes\\\\Y85.JPG\n",
      "C:\\Users\\chapp\\Downloads\\braintumour\\yes\\\\Y86.JPG\n",
      "C:\\Users\\chapp\\Downloads\\braintumour\\yes\\\\Y89.JPG\n",
      "C:\\Users\\chapp\\Downloads\\braintumour\\yes\\\\Y9.jpg\n",
      "C:\\Users\\chapp\\Downloads\\braintumour\\yes\\\\Y90.jpg\n",
      "C:\\Users\\chapp\\Downloads\\braintumour\\yes\\\\Y91.jpg\n",
      "C:\\Users\\chapp\\Downloads\\braintumour\\yes\\\\Y92.jpg\n",
      "C:\\Users\\chapp\\Downloads\\braintumour\\yes\\\\Y92.png\n",
      "C:\\Users\\chapp\\Downloads\\braintumour\\yes\\\\Y95.jpg\n",
      "C:\\Users\\chapp\\Downloads\\braintumour\\yes\\\\Y96.jpg\n",
      "C:\\Users\\chapp\\Downloads\\braintumour\\yes\\\\Y97.JPG\n",
      "C:\\Users\\chapp\\Downloads\\braintumour\\yes\\\\Y98.JPG\n",
      "C:\\Users\\chapp\\Downloads\\braintumour\\yes\\\\Y99.JPG\n"
     ]
    }
   ],
   "source": [
    "for image_name in yes_images:\n",
    "    s=r\"C:\\Users\\chapp\\Downloads\\braintumour\\yes\\\\\"\n",
    "    path=(s +image_name)\n",
    "    print(path)   \n",
    "    if path==r'C:\\Users\\chapp\\Downloads\\braintumour\\yes\\\\desktop.ini':\n",
    "        continue\n",
    "  \n",
    "    image=cv2.imread(path)\n",
    "    image=Image.fromarray(image,'RGB')\n",
    "    image=image.resize((64,64))\n",
    "    datset.append(np.array(image))\n",
    "    lab.append(1)"
   ]
  },
  {
   "cell_type": "code",
   "execution_count": 37,
   "metadata": {
    "execution": {
     "iopub.execute_input": "2022-01-20T09:30:22.127340Z",
     "iopub.status.busy": "2022-01-20T09:30:22.126652Z",
     "iopub.status.idle": "2022-01-20T09:30:22.149240Z",
     "shell.execute_reply": "2022-01-20T09:30:22.148664Z",
     "shell.execute_reply.started": "2022-01-20T09:27:14.151282Z"
    },
    "papermill": {
     "duration": 0.046132,
     "end_time": "2022-01-20T09:30:22.149390",
     "exception": false,
     "start_time": "2022-01-20T09:30:22.103258",
     "status": "completed"
    },
    "tags": []
   },
   "outputs": [],
   "source": [
    "data=np.asarray(datset)\n",
    "l=np.asarray(lab)"
   ]
  },
  {
   "cell_type": "code",
   "execution_count": 38,
   "metadata": {
    "execution": {
     "iopub.execute_input": "2022-01-20T09:30:22.192751Z",
     "iopub.status.busy": "2022-01-20T09:30:22.192093Z",
     "iopub.status.idle": "2022-01-20T09:30:22.198177Z",
     "shell.execute_reply": "2022-01-20T09:30:22.197171Z",
     "shell.execute_reply.started": "2022-01-20T09:27:17.701407Z"
    },
    "papermill": {
     "duration": 0.030046,
     "end_time": "2022-01-20T09:30:22.198444",
     "exception": false,
     "start_time": "2022-01-20T09:30:22.168398",
     "status": "completed"
    },
    "tags": []
   },
   "outputs": [
    {
     "name": "stdout",
     "output_type": "stream",
     "text": [
      "(253, 64, 64, 3) (253,)\n"
     ]
    }
   ],
   "source": [
    "print(data.shape, l.shape)"
   ]
  },
  {
   "cell_type": "code",
   "execution_count": 71,
   "metadata": {
    "execution": {
     "iopub.execute_input": "2022-01-20T09:30:22.247941Z",
     "iopub.status.busy": "2022-01-20T09:30:22.247250Z",
     "iopub.status.idle": "2022-01-20T09:30:22.482630Z",
     "shell.execute_reply": "2022-01-20T09:30:22.482095Z",
     "shell.execute_reply.started": "2022-01-20T09:27:21.001461Z"
    },
    "papermill": {
     "duration": 0.263234,
     "end_time": "2022-01-20T09:30:22.482772",
     "exception": false,
     "start_time": "2022-01-20T09:30:22.219538",
     "status": "completed"
    },
    "tags": []
   },
   "outputs": [
    {
     "data": {
      "text/plain": [
       "<matplotlib.image.AxesImage at 0x20711d9dfd0>"
      ]
     },
     "execution_count": 71,
     "metadata": {},
     "output_type": "execute_result"
    },
    {
     "data": {
      "image/png": "[encoded data removed]",
      "text/plain": [
       "<Figure size 432x288 with 1 Axes>"
      ]
     },
     "metadata": {},
     "output_type": "display_data"
    }
   ],
   "source": [
    "plt.imshow(data[6])"
   ]
  },
  {
   "cell_type": "markdown",
   "metadata": {
    "papermill": {
     "duration": 0.019998,
     "end_time": "2022-01-20T09:30:22.523328",
     "exception": false,
     "start_time": "2022-01-20T09:30:22.503330",
     "status": "completed"
    },
    "tags": []
   },
   "source": [
    "# # Model Training"
   ]
  },
  {
   "cell_type": "code",
   "execution_count": 40,
   "metadata": {
    "execution": {
     "iopub.execute_input": "2022-01-20T09:30:22.573558Z",
     "iopub.status.busy": "2022-01-20T09:30:22.572854Z",
     "iopub.status.idle": "2022-01-20T09:30:22.735947Z",
     "shell.execute_reply": "2022-01-20T09:30:22.735001Z",
     "shell.execute_reply.started": "2022-01-20T09:27:24.869500Z"
    },
    "papermill": {
     "duration": 0.190791,
     "end_time": "2022-01-20T09:30:22.736151",
     "exception": false,
     "start_time": "2022-01-20T09:30:22.545360",
     "status": "completed"
    },
    "tags": []
   },
   "outputs": [],
   "source": [
    "model=Sequential([\n",
    "                     \n",
    "                     #cnn\n",
    "                    layers.Conv2D(50,(3,3),activation=\"relu\",input_shape=(64,64,3)),\n",
    "                    layers.MaxPooling2D((2,2)),\n",
    "     \n",
    "                    layers.Conv2D(64,(3,3),activation=\"relu\"),\n",
    "                    layers.MaxPooling2D((2,2)),\n",
    "    \n",
    "                    layers.Conv2D(54,(3,3),activation=\"relu\"),\n",
    "                    layers.MaxPooling2D((2,2)),\n",
    "    \n",
    "                     #dense_layer\n",
    "                     layers.Flatten(),\n",
    "                     layers.Dense(64,activation=\"relu\"),\n",
    "                     layers.Dense(2,activation=\"softmax\")\n",
    "\n",
    "\n",
    "])"
   ]
  },
  {
   "cell_type": "code",
   "execution_count": 42,
   "metadata": {
    "execution": {
     "iopub.execute_input": "2022-01-20T09:30:22.787085Z",
     "iopub.status.busy": "2022-01-20T09:30:22.786406Z",
     "iopub.status.idle": "2022-01-20T09:31:32.939409Z",
     "shell.execute_reply": "2022-01-20T09:31:32.939911Z",
     "shell.execute_reply.started": "2022-01-20T09:27:28.160032Z"
    },
    "papermill": {
     "duration": 70.180768,
     "end_time": "2022-01-20T09:31:32.940120",
     "exception": false,
     "start_time": "2022-01-20T09:30:22.759352",
     "status": "completed"
    },
    "tags": []
   },
   "outputs": [
    {
     "name": "stdout",
     "output_type": "stream",
     "text": [
      "Epoch 1/10\n",
      "8/8 [==============================] - 1s 83ms/step - loss: 0.5306 - accuracy: 0.8063\n",
      "Epoch 2/10\n",
      "8/8 [==============================] - 1s 84ms/step - loss: 0.4486 - accuracy: 0.7905\n",
      "Epoch 3/10\n",
      "8/8 [==============================] - 1s 82ms/step - loss: 0.3439 - accuracy: 0.8419\n",
      "Epoch 4/10\n",
      "8/8 [==============================] - 1s 83ms/step - loss: 0.2573 - accuracy: 0.9170\n",
      "Epoch 5/10\n",
      "8/8 [==============================] - 1s 82ms/step - loss: 0.1974 - accuracy: 0.9249\n",
      "Epoch 6/10\n",
      "8/8 [==============================] - 1s 82ms/step - loss: 0.1266 - accuracy: 0.9565\n",
      "Epoch 7/10\n",
      "8/8 [==============================] - 1s 83ms/step - loss: 0.0718 - accuracy: 0.9881\n",
      "Epoch 8/10\n",
      "8/8 [==============================] - 1s 87ms/step - loss: 0.0411 - accuracy: 0.9960\n",
      "Epoch 9/10\n",
      "8/8 [==============================] - 1s 84ms/step - loss: 0.0270 - accuracy: 1.0000\n",
      "Epoch 10/10\n",
      "8/8 [==============================] - 1s 85ms/step - loss: 0.0153 - accuracy: 0.9960\n"
     ]
    },
    {
     "data": {
      "text/plain": [
       "<keras.callbacks.History at 0x206a4cb3f60>"
      ]
     },
     "execution_count": 42,
     "metadata": {},
     "output_type": "execute_result"
    }
   ],
   "source": [
    "model.compile(optimizer=\"adam\", loss=\"sparse_categorical_crossentropy\", metrics=[\"accuracy\"])\n",
    "model.fit(data,l,epochs=10)"
   ]
  },
  {
   "cell_type": "code",
   "execution_count": 43,
   "metadata": {},
   "outputs": [
    {
     "name": "stdout",
     "output_type": "stream",
     "text": [
      "Epoch 1/9\n",
      "8/8 [==============================] - 1s 83ms/step - loss: 0.1283 - accuracy: 0.9526\n",
      "Epoch 2/9\n",
      "8/8 [==============================] - 1s 86ms/step - loss: 0.0804 - accuracy: 0.9605\n",
      "Epoch 3/9\n",
      "8/8 [==============================] - 1s 88ms/step - loss: 0.0476 - accuracy: 0.9881\n",
      "Epoch 4/9\n",
      "8/8 [==============================] - 1s 91ms/step - loss: 0.0225 - accuracy: 0.9921\n",
      "Epoch 5/9\n",
      "8/8 [==============================] - 1s 94ms/step - loss: 0.0218 - accuracy: 0.9921\n",
      "Epoch 6/9\n",
      "8/8 [==============================] - 1s 91ms/step - loss: 0.0137 - accuracy: 0.9960\n",
      "Epoch 7/9\n",
      "8/8 [==============================] - 1s 89ms/step - loss: 0.0056 - accuracy: 1.0000\n",
      "Epoch 8/9\n",
      "8/8 [==============================] - 1s 87ms/step - loss: 0.0038 - accuracy: 1.0000\n",
      "Epoch 9/9\n",
      "8/8 [==============================] - 1s 89ms/step - loss: 0.0015 - accuracy: 1.0000 0s - loss: 0.0022 - ac\n"
     ]
    },
    {
     "data": {
      "text/plain": [
       "<keras.callbacks.History at 0x206fbdeba90>"
      ]
     },
     "execution_count": 43,
     "metadata": {},
     "output_type": "execute_result"
    }
   ],
   "source": [
    "model.compile(optimizer=\"adam\", loss=\"sparse_categorical_crossentropy\", metrics=[\"accuracy\"])\n",
    "model.fit(data,l,epochs=9)"
   ]
  },
  {
   "cell_type": "markdown",
   "metadata": {
    "papermill": {
     "duration": 0.251595,
     "end_time": "2022-01-20T09:31:33.442969",
     "exception": false,
     "start_time": "2022-01-20T09:31:33.191374",
     "status": "completed"
    },
    "tags": []
   },
   "source": [
    "# Preparing predction images"
   ]
  },
  {
   "cell_type": "code",
   "execution_count": 49,
   "metadata": {
    "execution": {
     "iopub.execute_input": "2022-01-20T09:31:33.953912Z",
     "iopub.status.busy": "2022-01-20T09:31:33.953284Z",
     "iopub.status.idle": "2022-01-20T09:31:34.513009Z",
     "shell.execute_reply": "2022-01-20T09:31:34.513551Z",
     "shell.execute_reply.started": "2022-01-20T09:28:42.841839Z"
    },
    "papermill": {
     "duration": 0.819725,
     "end_time": "2022-01-20T09:31:34.513739",
     "exception": false,
     "start_time": "2022-01-20T09:31:33.694014",
     "status": "completed"
    },
    "scrolled": true,
    "tags": []
   },
   "outputs": [],
   "source": [
    "pred_set=[]\n",
    "pred_images=os.listdir(r'C:\\Users\\chapp\\Downloads\\braintumour\\pred\\\\')\n",
    "for image_name in pred_images:\n",
    "    image=cv2.imread(r'C:\\Users\\chapp\\Downloads\\braintumour\\pred\\\\'+ image_name)\n",
    "    image=Image.fromarray(image,'RGB')\n",
    "    image=image.resize((64,64))\n",
    "    pred_set.append(np.array(image))\n",
    "pred=np.asarray(pred_set)"
   ]
  },
  {
   "cell_type": "code",
   "execution_count": 50,
   "metadata": {
    "execution": {
     "iopub.execute_input": "2022-01-20T09:31:35.025014Z",
     "iopub.status.busy": "2022-01-20T09:31:35.024354Z",
     "iopub.status.idle": "2022-01-20T09:31:35.231059Z",
     "shell.execute_reply": "2022-01-20T09:31:35.230425Z",
     "shell.execute_reply.started": "2022-01-20T09:28:47.671493Z"
    },
    "papermill": {
     "duration": 0.464105,
     "end_time": "2022-01-20T09:31:35.231201",
     "exception": false,
     "start_time": "2022-01-20T09:31:34.767096",
     "status": "completed"
    },
    "tags": []
   },
   "outputs": [],
   "source": [
    "x=model.predict(pred)\n",
    "max=np.argmax(x,axis=1)"
   ]
  },
  {
   "cell_type": "code",
   "execution_count": 52,
   "metadata": {},
   "outputs": [
    {
     "data": {
      "text/plain": [
       "array([[9.99946952e-01, 5.29909230e-05],\n",
       "       [9.95391965e-01, 4.60804300e-03],\n",
       "       [1.00000000e+00, 3.98820884e-16],\n",
       "       [1.00000000e+00, 3.78855142e-11],\n",
       "       [1.00000000e+00, 2.51321794e-19],\n",
       "       [1.00000000e+00, 7.75452896e-11],\n",
       "       [9.99978185e-01, 2.18205532e-05],\n",
       "       [9.99893546e-01, 1.06487045e-04],\n",
       "       [1.00000000e+00, 2.43665488e-09],\n",
       "       [9.99999881e-01, 7.30887706e-08],\n",
       "       [9.96024013e-01, 3.97599023e-03],\n",
       "       [9.99998569e-01, 1.39273914e-06],\n",
       "       [9.99967694e-01, 3.22486267e-05],\n",
       "       [9.99730408e-01, 2.69599957e-04],\n",
       "       [9.99787271e-01, 2.12752813e-04],\n",
       "       [9.99741375e-01, 2.58656160e-04],\n",
       "       [1.00000000e+00, 1.97749889e-12],\n",
       "       [9.99309659e-01, 6.90382265e-04],\n",
       "       [9.99893546e-01, 1.06487045e-04],\n",
       "       [9.96090472e-01, 3.90946632e-03],\n",
       "       [9.99997020e-01, 2.98490113e-06],\n",
       "       [9.99986768e-01, 1.31760971e-05],\n",
       "       [9.99328017e-01, 6.71967515e-04],\n",
       "       [9.99510765e-01, 4.89184691e-04],\n",
       "       [1.00000000e+00, 4.34690897e-08],\n",
       "       [9.98583317e-01, 1.41671370e-03],\n",
       "       [9.99614716e-01, 3.85308056e-04],\n",
       "       [9.99952078e-01, 4.79467053e-05],\n",
       "       [9.99921560e-01, 7.84114163e-05],\n",
       "       [1.00000000e+00, 5.29124401e-12],\n",
       "       [9.99965191e-01, 3.48625399e-05],\n",
       "       [1.00000000e+00, 3.51094188e-11],\n",
       "       [9.99208033e-01, 7.91958941e-04],\n",
       "       [9.99997973e-01, 2.01240414e-06],\n",
       "       [9.99997973e-01, 2.01240414e-06],\n",
       "       [1.00000000e+00, 2.51321794e-19],\n",
       "       [1.00000000e+00, 1.23264194e-15],\n",
       "       [9.99686599e-01, 3.13472090e-04],\n",
       "       [9.99999523e-01, 4.59628467e-07],\n",
       "       [1.00000000e+00, 1.07183840e-09],\n",
       "       [9.96775448e-01, 3.22449743e-03],\n",
       "       [1.00000000e+00, 4.36274021e-08],\n",
       "       [9.99944448e-01, 5.55544793e-05],\n",
       "       [1.00000000e+00, 4.59110190e-08],\n",
       "       [9.99113262e-01, 8.86695751e-04],\n",
       "       [1.00000000e+00, 3.95419875e-09],\n",
       "       [9.98929918e-01, 1.07001385e-03],\n",
       "       [9.99965191e-01, 3.48625399e-05],\n",
       "       [9.95391965e-01, 4.60804300e-03],\n",
       "       [9.99996185e-01, 3.81220229e-06],\n",
       "       [9.98719692e-01, 1.28035829e-03],\n",
       "       [1.00000000e+00, 3.85205894e-08],\n",
       "       [1.00000000e+00, 1.28628512e-08],\n",
       "       [1.00000000e+00, 8.87682816e-09],\n",
       "       [9.99330163e-01, 6.69897126e-04],\n",
       "       [9.99989152e-01, 1.08225440e-05],\n",
       "       [9.98103261e-01, 1.89676136e-03],\n",
       "       [9.99993682e-01, 6.28523776e-06],\n",
       "       [9.99848604e-01, 1.51428845e-04],\n",
       "       [9.99998212e-01, 1.75305547e-06],\n",
       "       [9.99972582e-01, 2.73939422e-05],\n",
       "       [9.99208033e-01, 7.91958941e-04],\n",
       "       [9.99316216e-01, 6.83738792e-04],\n",
       "       [9.99944448e-01, 5.55544793e-05],\n",
       "       [1.00000000e+00, 3.09746001e-12],\n",
       "       [9.99855161e-01, 1.44843318e-04],\n",
       "       [1.00000000e+00, 2.05961808e-08],\n",
       "       [9.99937415e-01, 6.25719767e-05],\n",
       "       [9.99972582e-01, 2.73939422e-05],\n",
       "       [9.99843121e-01, 1.56811642e-04],\n",
       "       [9.99658227e-01, 3.41778068e-04],\n",
       "       [1.00000000e+00, 4.12517590e-11],\n",
       "       [1.00000000e+00, 2.95990530e-19],\n",
       "       [9.99861002e-01, 1.38949792e-04],\n",
       "       [1.00000000e+00, 1.65294589e-16],\n",
       "       [1.00000000e+00, 2.81201503e-11],\n",
       "       [9.99502778e-01, 4.97230038e-04],\n",
       "       [9.86454546e-01, 1.35454331e-02],\n",
       "       [9.99995232e-01, 4.77943968e-06],\n",
       "       [9.99946952e-01, 5.29909230e-05],\n",
       "       [9.99962568e-01, 3.73803705e-05],\n",
       "       [9.99980092e-01, 1.99239075e-05],\n",
       "       [1.00000000e+00, 6.10283102e-10],\n",
       "       [1.00000000e+00, 5.51362015e-16],\n",
       "       [9.99969244e-01, 3.06967486e-05],\n",
       "       [9.99995589e-01, 4.39340920e-06],\n",
       "       [1.00000000e+00, 4.12517590e-11],\n",
       "       [9.99880433e-01, 1.19530967e-04],\n",
       "       [1.00000000e+00, 7.15316739e-09],\n",
       "       [1.00000000e+00, 2.20244818e-08],\n",
       "       [9.99983311e-01, 1.66872214e-05],\n",
       "       [1.00000000e+00, 1.43559169e-13],\n",
       "       [9.99983311e-01, 1.66872214e-05],\n",
       "       [9.99988794e-01, 1.12252774e-05],\n",
       "       [9.99866605e-01, 1.33369642e-04],\n",
       "       [9.99998212e-01, 1.75799437e-06],\n",
       "       [1.00000000e+00, 4.77120494e-08],\n",
       "       [9.99946237e-01, 5.37587803e-05],\n",
       "       [2.28696590e-05, 9.99977112e-01],\n",
       "       [3.85762687e-04, 9.99614239e-01],\n",
       "       [4.46258904e-03, 9.95537400e-01],\n",
       "       [1.76224706e-03, 9.98237729e-01],\n",
       "       [3.65194562e-03, 9.96348083e-01],\n",
       "       [1.00750627e-03, 9.98992503e-01],\n",
       "       [2.91752210e-03, 9.97082412e-01],\n",
       "       [6.45744080e-07, 9.99999404e-01],\n",
       "       [4.07936263e-08, 1.00000000e+00],\n",
       "       [3.37649998e-03, 9.96623516e-01],\n",
       "       [2.43869596e-04, 9.99756157e-01],\n",
       "       [1.18347805e-06, 9.99998808e-01],\n",
       "       [5.56520206e-07, 9.99999404e-01],\n",
       "       [4.87211980e-02, 9.51278865e-01],\n",
       "       [1.49522824e-02, 9.85047698e-01],\n",
       "       [2.79240683e-03, 9.97207582e-01],\n",
       "       [2.65734343e-05, 9.99973416e-01],\n",
       "       [2.30996793e-05, 9.99976873e-01],\n",
       "       [6.90534245e-03, 9.93094683e-01],\n",
       "       [1.76538833e-05, 9.99982357e-01],\n",
       "       [1.19011465e-03, 9.98809934e-01],\n",
       "       [1.34330643e-02, 9.86566961e-01],\n",
       "       [2.48708646e-04, 9.99751270e-01],\n",
       "       [2.22163944e-04, 9.99777853e-01],\n",
       "       [1.22107659e-03, 9.98778880e-01],\n",
       "       [3.76535323e-03, 9.96234715e-01],\n",
       "       [3.54616484e-03, 9.96453881e-01],\n",
       "       [2.54312022e-06, 9.99997497e-01],\n",
       "       [5.53381312e-07, 9.99999404e-01],\n",
       "       [3.38840414e-06, 9.99996662e-01],\n",
       "       [1.15705288e-05, 9.99988437e-01],\n",
       "       [2.58480486e-05, 9.99974132e-01],\n",
       "       [7.84794509e-04, 9.99215126e-01],\n",
       "       [2.55312026e-03, 9.97446895e-01],\n",
       "       [9.78957833e-05, 9.99902129e-01],\n",
       "       [3.58513134e-05, 9.99964118e-01],\n",
       "       [2.91567924e-03, 9.97084320e-01],\n",
       "       [5.87282795e-03, 9.94127154e-01],\n",
       "       [2.43869596e-04, 9.99756157e-01],\n",
       "       [1.54728768e-05, 9.99984503e-01],\n",
       "       [7.71879240e-06, 9.99992251e-01],\n",
       "       [2.42922874e-03, 9.97570813e-01],\n",
       "       [2.15426995e-03, 9.97845769e-01],\n",
       "       [2.81044136e-04, 9.99718964e-01],\n",
       "       [2.41358113e-03, 9.97586370e-01],\n",
       "       [2.48708646e-04, 9.99751270e-01],\n",
       "       [2.22163944e-04, 9.99777853e-01],\n",
       "       [1.97145673e-05, 9.99980330e-01],\n",
       "       [4.19248499e-05, 9.99958038e-01],\n",
       "       [1.65790368e-08, 1.00000000e+00],\n",
       "       [2.54312022e-06, 9.99997497e-01],\n",
       "       [2.29210104e-03, 9.97707844e-01],\n",
       "       [1.99242582e-04, 9.99800742e-01],\n",
       "       [3.01051475e-02, 9.69894826e-01],\n",
       "       [2.93089426e-03, 9.97069180e-01],\n",
       "       [1.33330626e-02, 9.86666977e-01],\n",
       "       [4.10325453e-03, 9.95896816e-01],\n",
       "       [2.15078355e-04, 9.99784887e-01],\n",
       "       [8.14771652e-03, 9.91852343e-01],\n",
       "       [2.58510205e-04, 9.99741495e-01],\n",
       "       [2.87107937e-03, 9.97128904e-01],\n",
       "       [2.28680726e-02, 9.77131903e-01],\n",
       "       [2.97318056e-05, 9.99970317e-01],\n",
       "       [9.14375505e-07, 9.99999046e-01],\n",
       "       [1.43576599e-05, 9.99985695e-01],\n",
       "       [1.93910164e-05, 9.99980569e-01],\n",
       "       [1.60605996e-04, 9.99839425e-01],\n",
       "       [1.31830070e-02, 9.86817062e-01],\n",
       "       [3.49181308e-03, 9.96508181e-01],\n",
       "       [8.97006691e-03, 9.91029978e-01],\n",
       "       [4.07040026e-03, 9.95929539e-01],\n",
       "       [1.65380342e-07, 9.99999881e-01],\n",
       "       [4.22437442e-03, 9.95775640e-01],\n",
       "       [3.64707899e-04, 9.99635220e-01],\n",
       "       [4.35937945e-05, 9.99956369e-01],\n",
       "       [1.67873304e-03, 9.98321235e-01],\n",
       "       [6.84611805e-05, 9.99931574e-01],\n",
       "       [2.98525435e-08, 1.00000000e+00],\n",
       "       [4.89009265e-03, 9.95109856e-01],\n",
       "       [2.08402751e-03, 9.97915924e-01],\n",
       "       [1.37842464e-04, 9.99862194e-01],\n",
       "       [2.87854607e-04, 9.99712169e-01],\n",
       "       [2.80877738e-03, 9.97191250e-01],\n",
       "       [3.11326912e-05, 9.99968886e-01],\n",
       "       [2.29057478e-04, 9.99770939e-01],\n",
       "       [4.25002858e-04, 9.99574959e-01],\n",
       "       [2.17873865e-04, 9.99782145e-01],\n",
       "       [5.56402028e-06, 9.99994397e-01],\n",
       "       [1.85338059e-03, 9.98146653e-01],\n",
       "       [5.80633758e-04, 9.99419332e-01],\n",
       "       [1.45625483e-04, 9.99854326e-01],\n",
       "       [2.28605222e-05, 9.99977112e-01],\n",
       "       [3.87543812e-02, 9.61245656e-01],\n",
       "       [1.19209153e-06, 9.99998808e-01],\n",
       "       [8.21523827e-07, 9.99999166e-01],\n",
       "       [2.74420309e-08, 1.00000000e+00],\n",
       "       [3.37649998e-03, 9.96623516e-01],\n",
       "       [2.54312022e-06, 9.99997497e-01],\n",
       "       [6.89797380e-05, 9.99930978e-01],\n",
       "       [1.12584233e-03, 9.98874128e-01],\n",
       "       [3.85762687e-04, 9.99614239e-01],\n",
       "       [1.19209369e-06, 9.99998808e-01],\n",
       "       [1.63702737e-07, 9.99999881e-01],\n",
       "       [4.36057895e-03, 9.95639443e-01],\n",
       "       [4.05216496e-03, 9.95947897e-01],\n",
       "       [2.24526608e-04, 9.99775469e-01],\n",
       "       [1.73966413e-07, 9.99999881e-01],\n",
       "       [2.37203653e-06, 9.99997616e-01],\n",
       "       [9.74645745e-03, 9.90253508e-01],\n",
       "       [5.56544292e-05, 9.99944329e-01],\n",
       "       [2.83760328e-05, 9.99971628e-01],\n",
       "       [1.31028564e-05, 9.99986887e-01],\n",
       "       [4.93405992e-03, 9.95065928e-01],\n",
       "       [5.67306473e-04, 9.99432623e-01],\n",
       "       [5.14776306e-03, 9.94852245e-01],\n",
       "       [1.17304479e-03, 9.98826921e-01],\n",
       "       [1.19209369e-06, 9.99998808e-01],\n",
       "       [6.08441769e-04, 9.99391556e-01],\n",
       "       [5.02937146e-05, 9.99949694e-01],\n",
       "       [4.51303276e-05, 9.99954820e-01],\n",
       "       [6.30349899e-03, 9.93696511e-01],\n",
       "       [4.76817973e-03, 9.95231807e-01],\n",
       "       [3.20560066e-05, 9.99967933e-01],\n",
       "       [6.20050495e-03, 9.93799508e-01],\n",
       "       [8.21523827e-07, 9.99999166e-01],\n",
       "       [5.95572812e-04, 9.99404430e-01],\n",
       "       [1.56219758e-04, 9.99843717e-01],\n",
       "       [3.44639714e-03, 9.96553659e-01],\n",
       "       [2.98525435e-08, 1.00000000e+00],\n",
       "       [1.89386122e-03, 9.98106122e-01],\n",
       "       [1.19209369e-06, 9.99998808e-01],\n",
       "       [3.77481291e-03, 9.96225238e-01],\n",
       "       [6.49249296e-06, 9.99993563e-01],\n",
       "       [6.08441769e-04, 9.99391556e-01],\n",
       "       [3.63870568e-05, 9.99963641e-01],\n",
       "       [2.93741405e-08, 1.00000000e+00],\n",
       "       [6.10651681e-04, 9.99389291e-01],\n",
       "       [9.20556544e-04, 9.99079466e-01],\n",
       "       [3.38840414e-06, 9.99996662e-01],\n",
       "       [6.92780959e-05, 9.99930739e-01],\n",
       "       [1.76393893e-03, 9.98236060e-01],\n",
       "       [4.75809880e-04, 9.99524236e-01],\n",
       "       [5.20059792e-03, 9.94799376e-01],\n",
       "       [1.30608416e-04, 9.99869347e-01],\n",
       "       [1.22167310e-09, 1.00000000e+00],\n",
       "       [3.81803280e-03, 9.96181965e-01],\n",
       "       [9.90065746e-03, 9.90099370e-01],\n",
       "       [1.51001896e-05, 9.99984860e-01],\n",
       "       [8.73023891e-05, 9.99912739e-01],\n",
       "       [1.42856534e-05, 9.99985695e-01],\n",
       "       [9.99583676e-03, 9.90004122e-01],\n",
       "       [1.03474176e-03, 9.98965263e-01],\n",
       "       [9.89944208e-04, 9.99010086e-01],\n",
       "       [2.90959002e-03, 9.97090340e-01],\n",
       "       [1.00230088e-03, 9.98997748e-01]], dtype=float32)"
      ]
     },
     "execution_count": 52,
     "metadata": {},
     "output_type": "execute_result"
    }
   ],
   "source": [
    "x"
   ]
  },
  {
   "cell_type": "code",
   "execution_count": 51,
   "metadata": {
    "execution": {
     "iopub.execute_input": "2022-01-20T09:31:35.741943Z",
     "iopub.status.busy": "2022-01-20T09:31:35.741276Z",
     "iopub.status.idle": "2022-01-20T09:31:35.745887Z",
     "shell.execute_reply": "2022-01-20T09:31:35.746348Z",
     "shell.execute_reply.started": "2022-01-20T09:28:50.680121Z"
    },
    "papermill": {
     "duration": 0.261798,
     "end_time": "2022-01-20T09:31:35.746515",
     "exception": false,
     "start_time": "2022-01-20T09:31:35.484717",
     "status": "completed"
    },
    "tags": []
   },
   "outputs": [
    {
     "data": {
      "text/plain": [
       "array([0, 0, 0, 0, 0, 0, 0, 0, 0, 0, 0, 0, 0, 0, 0, 0, 0, 0, 0, 0, 0, 0,\n",
       "       0, 0, 0, 0, 0, 0, 0, 0, 0, 0, 0, 0, 0, 0, 0, 0, 0, 0, 0, 0, 0, 0,\n",
       "       0, 0, 0, 0, 0, 0, 0, 0, 0, 0, 0, 0, 0, 0, 0, 0, 0, 0, 0, 0, 0, 0,\n",
       "       0, 0, 0, 0, 0, 0, 0, 0, 0, 0, 0, 0, 0, 0, 0, 0, 0, 0, 0, 0, 0, 0,\n",
       "       0, 0, 0, 0, 0, 0, 0, 0, 0, 0, 1, 1, 1, 1, 1, 1, 1, 1, 1, 1, 1, 1,\n",
       "       1, 1, 1, 1, 1, 1, 1, 1, 1, 1, 1, 1, 1, 1, 1, 1, 1, 1, 1, 1, 1, 1,\n",
       "       1, 1, 1, 1, 1, 1, 1, 1, 1, 1, 1, 1, 1, 1, 1, 1, 1, 1, 1, 1, 1, 1,\n",
       "       1, 1, 1, 1, 1, 1, 1, 1, 1, 1, 1, 1, 1, 1, 1, 1, 1, 1, 1, 1, 1, 1,\n",
       "       1, 1, 1, 1, 1, 1, 1, 1, 1, 1, 1, 1, 1, 1, 1, 1, 1, 1, 1, 1, 1, 1,\n",
       "       1, 1, 1, 1, 1, 1, 1, 1, 1, 1, 1, 1, 1, 1, 1, 1, 1, 1, 1, 1, 1, 1,\n",
       "       1, 1, 1, 1, 1, 1, 1, 1, 1, 1, 1, 1, 1, 1, 1, 1, 1, 1, 1, 1, 1, 1,\n",
       "       1, 1, 1, 1, 1, 1, 1, 1, 1, 1, 1], dtype=int64)"
      ]
     },
     "execution_count": 51,
     "metadata": {},
     "output_type": "execute_result"
    }
   ],
   "source": [
    "max"
   ]
  },
  {
   "cell_type": "markdown",
   "metadata": {
    "papermill": {
     "duration": 0.25303,
     "end_time": "2022-01-20T09:31:36.251668",
     "exception": false,
     "start_time": "2022-01-20T09:31:35.998638",
     "status": "completed"
    },
    "tags": []
   },
   "source": [
    "# Prediction"
   ]
  },
  {
   "cell_type": "code",
   "execution_count": 67,
   "metadata": {
    "execution": {
     "iopub.execute_input": "2022-01-20T09:31:36.760760Z",
     "iopub.status.busy": "2022-01-20T09:31:36.760029Z",
     "iopub.status.idle": "2022-01-20T09:31:36.967227Z",
     "shell.execute_reply": "2022-01-20T09:31:36.966456Z",
     "shell.execute_reply.started": "2022-01-20T09:28:54.164553Z"
    },
    "papermill": {
     "duration": 0.46286,
     "end_time": "2022-01-20T09:31:36.967393",
     "exception": false,
     "start_time": "2022-01-20T09:31:36.504533",
     "status": "completed"
    },
    "tags": []
   },
   "outputs": [
    {
     "name": "stdout",
     "output_type": "stream",
     "text": [
      "result: 0\n"
     ]
    },
    {
     "data": {
      "image/png": "[encoded data removed]",
      "text/plain": [
       "<Figure size 432x288 with 1 Axes>"
      ]
     },
     "metadata": {},
     "output_type": "display_data"
    }
   ],
   "source": [
    "plt.imshow(pred[9])\n",
    "print(\"result:\",max[9])"
   ]
  },
  {
   "cell_type": "code",
   "execution_count": 68,
   "metadata": {
    "execution": {
     "iopub.execute_input": "2022-01-20T09:31:37.482431Z",
     "iopub.status.busy": "2022-01-20T09:31:37.481392Z",
     "iopub.status.idle": "2022-01-20T09:31:37.686304Z",
     "shell.execute_reply": "2022-01-20T09:31:37.685712Z",
     "shell.execute_reply.started": "2022-01-20T09:28:57.826834Z"
    },
    "papermill": {
     "duration": 0.462983,
     "end_time": "2022-01-20T09:31:37.686445",
     "exception": false,
     "start_time": "2022-01-20T09:31:37.223462",
     "status": "completed"
    },
    "tags": []
   },
   "outputs": [
    {
     "name": "stdout",
     "output_type": "stream",
     "text": [
      "result: 0\n"
     ]
    },
    {
     "data": {
      "image/png": "[encoded data removed]",
      "text/plain": [
       "<Figure size 432x288 with 1 Axes>"
      ]
     },
     "metadata": {},
     "output_type": "display_data"
    }
   ],
   "source": [
    "plt.imshow(pred[18])\n",
    "print(\"result:\",max[18])"
   ]
  },
  {
   "cell_type": "code",
   "execution_count": 61,
   "metadata": {
    "execution": {
     "iopub.execute_input": "2022-01-20T09:31:38.228041Z",
     "iopub.status.busy": "2022-01-20T09:31:38.227037Z",
     "iopub.status.idle": "2022-01-20T09:31:38.413210Z",
     "shell.execute_reply": "2022-01-20T09:31:38.412577Z",
     "shell.execute_reply.started": "2022-01-20T09:29:01.531148Z"
    },
    "papermill": {
     "duration": 0.467189,
     "end_time": "2022-01-20T09:31:38.413351",
     "exception": false,
     "start_time": "2022-01-20T09:31:37.946162",
     "status": "completed"
    },
    "tags": []
   },
   "outputs": [
    {
     "name": "stdout",
     "output_type": "stream",
     "text": [
      "0\n"
     ]
    },
    {
     "data": {
      "image/png": "[encoded data removed]",
      "text/plain": [
       "<Figure size 432x288 with 1 Axes>"
      ]
     },
     "metadata": {},
     "output_type": "display_data"
    }
   ],
   "source": [
    "plt.imshow(pred[42])\n",
    "print(\"result:\",max[42])"
   ]
  },
  {
   "cell_type": "code",
   "execution_count": 62,
   "metadata": {
    "execution": {
     "iopub.execute_input": "2022-01-20T09:31:38.925496Z",
     "iopub.status.busy": "2022-01-20T09:31:38.924837Z",
     "iopub.status.idle": "2022-01-20T09:31:39.127314Z",
     "shell.execute_reply": "2022-01-20T09:31:39.128164Z",
     "shell.execute_reply.started": "2022-01-20T09:29:05.734596Z"
    },
    "papermill": {
     "duration": 0.46151,
     "end_time": "2022-01-20T09:31:39.128344",
     "exception": false,
     "start_time": "2022-01-20T09:31:38.666834",
     "status": "completed"
    },
    "tags": []
   },
   "outputs": [
    {
     "name": "stdout",
     "output_type": "stream",
     "text": [
      "0\n"
     ]
    },
    {
     "data": {
      "image/png": "[encoded data removed]",
      "text/plain": [
       "<Figure size 432x288 with 1 Axes>"
      ]
     },
     "metadata": {},
     "output_type": "display_data"
    }
   ],
   "source": [
    "plt.imshow(pred[55])\n",
    "print(\"result:\",max[55])"
   ]
  },
  {
   "cell_type": "code",
   "execution_count": 69,
   "metadata": {
    "execution": {
     "iopub.execute_input": "2022-01-20T09:31:39.649381Z",
     "iopub.status.busy": "2022-01-20T09:31:39.648383Z",
     "iopub.status.idle": "2022-01-20T09:31:39.851860Z",
     "shell.execute_reply": "2022-01-20T09:31:39.851329Z",
     "shell.execute_reply.started": "2022-01-20T09:29:10.384263Z"
    },
    "papermill": {
     "duration": 0.463857,
     "end_time": "2022-01-20T09:31:39.852021",
     "exception": false,
     "start_time": "2022-01-20T09:31:39.388164",
     "status": "completed"
    },
    "tags": []
   },
   "outputs": [
    {
     "name": "stdout",
     "output_type": "stream",
     "text": [
      "result: 1\n"
     ]
    },
    {
     "data": {
      "image/png": "[encoded data removed]",
      "text/plain": [
       "<Figure size 432x288 with 1 Axes>"
      ]
     },
     "metadata": {},
     "output_type": "display_data"
    }
   ],
   "source": [
    "plt.imshow(pred[129])\n",
    "print(\"result:\",max[129])"
   ]
  },
  {
   "cell_type": "code",
   "execution_count": 70,
   "metadata": {
    "execution": {
     "iopub.execute_input": "2022-01-20T09:31:40.394000Z",
     "iopub.status.busy": "2022-01-20T09:31:40.392586Z",
     "iopub.status.idle": "2022-01-20T09:31:40.581255Z",
     "shell.execute_reply": "2022-01-20T09:31:40.580618Z",
     "shell.execute_reply.started": "2022-01-20T09:29:14.076553Z"
    },
    "papermill": {
     "duration": 0.470319,
     "end_time": "2022-01-20T09:31:40.581395",
     "exception": false,
     "start_time": "2022-01-20T09:31:40.111076",
     "status": "completed"
    },
    "tags": []
   },
   "outputs": [
    {
     "name": "stdout",
     "output_type": "stream",
     "text": [
      "result: 1\n"
     ]
    },
    {
     "data": {
      "image/png": "[encoded data removed]",
      "text/plain": [
       "<Figure size 432x288 with 1 Axes>"
      ]
     },
     "metadata": {},
     "output_type": "display_data"
    }
   ],
   "source": [
    "plt.imshow(pred[150])\n",
    "print(\"result:\",max[150])"
   ]
  },
  {
   "cell_type": "markdown",
   "metadata": {
    "papermill": {
     "duration": 0.260501,
     "end_time": "2022-01-20T09:31:41.102789",
     "exception": false,
     "start_time": "2022-01-20T09:31:40.842288",
     "status": "completed"
    },
    "tags": []
   },
   "source": [
    "# #All the images are correctly predicted"
   ]
  },
  {
   "cell_type": "code",
   "execution_count": null,
   "metadata": {
    "execution": {
     "iopub.execute_input": "2022-01-20T09:31:41.626408Z",
     "iopub.status.busy": "2022-01-20T09:31:41.625372Z",
     "iopub.status.idle": "2022-01-20T09:31:41.627308Z",
     "shell.execute_reply": "2022-01-20T09:31:41.627888Z",
     "shell.execute_reply.started": "2022-01-20T09:29:19.343442Z"
    },
    "papermill": {
     "duration": 0.26477,
     "end_time": "2022-01-20T09:31:41.628078",
     "exception": false,
     "start_time": "2022-01-20T09:31:41.363308",
     "status": "completed"
    },
    "tags": []
   },
   "outputs": [],
   "source": [
    "#All the images are correctly predicted by checking in directory and comparing with max"
   ]
  }
 ],
 "metadata": {
  "kernelspec": {
   "display_name": "Python 3",
   "language": "python",
   "name": "python3"
  },
  "language_info": {
   "codemirror_mode": {
    "name": "ipython",
    "version": 3
   },
   "file_extension": ".py",
   "mimetype": "text/x-python",
   "name": "python",
   "nbconvert_exporter": "python",
   "pygments_lexer": "ipython3",
   "version": "3.6.5"
  },
  "papermill": {
   "default_parameters": {},
   "duration": 122.889309,
   "end_time": "2022-01-20T09:31:45.319914",
   "environment_variables": {},
   "exception": null,
   "input_path": "__notebook__.ipynb",
   "output_path": "__notebook__.ipynb",
   "parameters": {},
   "start_time": "2022-01-20T09:29:42.430605",
   "version": "2.3.3"
  }
 },
 "nbformat": 4,
 "nbformat_minor": 5
}
